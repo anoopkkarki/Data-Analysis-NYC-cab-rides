{
 "cells": [
  {
   "cell_type": "code",
   "execution_count": 1,
   "id": "2ac37e7d",
   "metadata": {},
   "outputs": [],
   "source": [
    "import numpy as np"
   ]
  },
  {
   "cell_type": "code",
   "execution_count": 4,
   "id": "31d8d601",
   "metadata": {},
   "outputs": [],
   "source": [
    "taxi = np.genfromtxt('nyc_taxis.csv', delimiter = ',', skip_header = True)"
   ]
  },
  {
   "cell_type": "markdown",
   "id": "fd4a4483",
   "metadata": {},
   "source": [
    "# what is the mean speed of cab rides"
   ]
  },
  {
   "cell_type": "code",
   "execution_count": 8,
   "id": "9937eb14",
   "metadata": {},
   "outputs": [],
   "source": [
    "speed = taxi[:,7]/ (taxi[:,8]/3600)"
   ]
  },
  {
   "cell_type": "code",
   "execution_count": 9,
   "id": "dc127397",
   "metadata": {},
   "outputs": [
    {
     "name": "stdout",
     "output_type": "stream",
     "text": [
      "32.24258580925573\n"
     ]
    }
   ],
   "source": [
    "mean_speed = speed.mean()\n",
    "print(mean_speed)"
   ]
  },
  {
   "cell_type": "markdown",
   "id": "e53f470a",
   "metadata": {},
   "source": [
    "# calculate the number of rides taken in the month of feb, Feb is given by the 2 month column"
   ]
  },
  {
   "cell_type": "code",
   "execution_count": 12,
   "id": "a83e3f69",
   "metadata": {},
   "outputs": [
    {
     "name": "stdout",
     "output_type": "stream",
     "text": [
      "[2. 2. 2. ... 2. 2. 2.]\n",
      "13333\n"
     ]
    }
   ],
   "source": [
    "rides_feb = taxi[taxi[:,1] == 2,1]\n",
    "print(rides_feb)\n",
    "print(rides_feb.shape[0])"
   ]
  },
  {
   "cell_type": "markdown",
   "id": "cc7380dd",
   "metadata": {},
   "source": [
    "# Calculate the number of riders with a tip greater than 50"
   ]
  },
  {
   "cell_type": "code",
   "execution_count": 25,
   "id": "66026c73",
   "metadata": {},
   "outputs": [
    {
     "name": "stdout",
     "output_type": "stream",
     "text": [
      "16\n"
     ]
    }
   ],
   "source": [
    "print(taxi[taxi[:,-3]>50,-3].shape[0])"
   ]
  },
  {
   "cell_type": "code",
   "execution_count": 16,
   "id": "e0b5fc35",
   "metadata": {},
   "outputs": [
    {
     "name": "stdout",
     "output_type": "stream",
     "text": [
      "89560\n"
     ]
    }
   ],
   "source": [
    "print(taxi)"
   ]
  },
  {
   "cell_type": "markdown",
   "id": "0f62e769",
   "metadata": {},
   "source": [
    "# Calculate the number of rides where drop ws JFK airport"
   ]
  },
  {
   "cell_type": "code",
   "execution_count": 28,
   "id": "9831829c",
   "metadata": {},
   "outputs": [
    {
     "name": "stdout",
     "output_type": "stream",
     "text": [
      "11832\n"
     ]
    }
   ],
   "source": [
    "print(taxi[taxi[:,6] == 2,6].shape[0])"
   ]
  },
  {
   "cell_type": "code",
   "execution_count": null,
   "id": "0e1d849f",
   "metadata": {},
   "outputs": [],
   "source": []
  },
  {
   "cell_type": "code",
   "execution_count": null,
   "id": "f13269bc",
   "metadata": {},
   "outputs": [],
   "source": []
  }
 ],
 "metadata": {
  "kernelspec": {
   "display_name": "Python 3 (ipykernel)",
   "language": "python",
   "name": "python3"
  },
  "language_info": {
   "codemirror_mode": {
    "name": "ipython",
    "version": 3
   },
   "file_extension": ".py",
   "mimetype": "text/x-python",
   "name": "python",
   "nbconvert_exporter": "python",
   "pygments_lexer": "ipython3",
   "version": "3.11.2"
  }
 },
 "nbformat": 4,
 "nbformat_minor": 5
}
